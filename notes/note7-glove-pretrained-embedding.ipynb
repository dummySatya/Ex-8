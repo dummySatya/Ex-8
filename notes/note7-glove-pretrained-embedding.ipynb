{
 "cells": [
  {
   "cell_type": "code",
   "execution_count": 1,
   "metadata": {},
   "outputs": [],
   "source": [
    "# Data from - https://www.clips.uantwerpen.be/conll2000/chunking/"
   ]
  },
  {
   "cell_type": "code",
   "execution_count": 2,
   "metadata": {},
   "outputs": [],
   "source": [
    "def prepare_data(file_path):\n",
    "    sentences = []\n",
    "    tags = []\n",
    "    with open(file_path, \"r\") as f:\n",
    "        sentence = []\n",
    "        pos_tags = []\n",
    "        for line in f:\n",
    "            line = line.strip()\n",
    "            if line == \"\":  # Sentence boundary\n",
    "                if sentence:\n",
    "                    sentences.append(sentence)\n",
    "                    tags.append(pos_tags)\n",
    "                    sentence = []\n",
    "                    pos_tags = []\n",
    "            else:\n",
    "                parts = line.split()\n",
    "                if len(parts) >= 2:  # Ensure the line has at least word and POS tag\n",
    "                    word, pos_tag = parts[0], parts[1]\n",
    "                    sentence.append(word)\n",
    "                    pos_tags.append(pos_tag)\n",
    "        if sentence:\n",
    "            sentences.append(sentence)\n",
    "            tags.append(pos_tags)\n",
    "    return sentences, tags\n",
    "\n",
    "# Usage\n",
    "file_path = \"../practical/data/train.txt\"\n",
    "sentences, pos_tags = prepare_data(file_path)\n"
   ]
  },
  {
   "cell_type": "code",
   "execution_count": 3,
   "metadata": {},
   "outputs": [
    {
     "name": "stdout",
     "output_type": "stream",
     "text": [
      "['Confidence', 'in', 'the', 'pound', 'is', 'widely', 'expected', 'to', 'take', 'another', 'sharp', 'dive', 'if', 'trade', 'figures', 'for', 'September', ',', 'due', 'for', 'release', 'tomorrow', ',', 'fail', 'to', 'show', 'a', 'substantial', 'improvement', 'from', 'July', 'and', 'August', \"'s\", 'near-record', 'deficits', '.']\n"
     ]
    }
   ],
   "source": [
    "print(sentences[0])"
   ]
  },
  {
   "cell_type": "code",
   "execution_count": 4,
   "metadata": {},
   "outputs": [
    {
     "name": "stdout",
     "output_type": "stream",
     "text": [
      "['NN', 'IN', 'DT', 'NN', 'VBZ', 'RB', 'VBN', 'TO', 'VB', 'DT', 'JJ', 'NN', 'IN', 'NN', 'NNS', 'IN', 'NNP', ',', 'JJ', 'IN', 'NN', 'NN', ',', 'VB', 'TO', 'VB', 'DT', 'JJ', 'NN', 'IN', 'NNP', 'CC', 'NNP', 'POS', 'JJ', 'NNS', '.']\n"
     ]
    }
   ],
   "source": [
    "print(pos_tags[0])"
   ]
  },
  {
   "cell_type": "code",
   "execution_count": 5,
   "metadata": {},
   "outputs": [
    {
     "data": {
      "text/plain": [
       "8936"
      ]
     },
     "execution_count": 5,
     "metadata": {},
     "output_type": "execute_result"
    }
   ],
   "source": [
    "len(sentences)"
   ]
  },
  {
   "cell_type": "code",
   "execution_count": 6,
   "metadata": {},
   "outputs": [],
   "source": [
    "word_vocab = {word: idx for idx, word in enumerate(set(w for s in sentences for w in s), start=1)}\n",
    "word_vocab[\"<PAD>\"] = 0  # For padding\n",
    "word_vocab[\"<UNK>\"] = len(word_vocab)  # For unknown words\n",
    "\n",
    "tag_vocab = {tag: idx for idx, tag in enumerate(set(t for ts in pos_tags for t in ts))}"
   ]
  },
  {
   "cell_type": "code",
   "execution_count": 7,
   "metadata": {},
   "outputs": [],
   "source": [
    "idx2tag = {tag_vocab[tag] : tag for tag in tag_vocab.keys()}"
   ]
  },
  {
   "cell_type": "code",
   "execution_count": 8,
   "metadata": {},
   "outputs": [],
   "source": [
    "def encode_data(sentences, tags, word_vocab, tag_vocab):\n",
    "    encoded_sentences = [[word_vocab.get(w, word_vocab[\"<UNK>\"]) for w in s] for s in sentences]\n",
    "    encoded_tags = [[tag_vocab[t] for t in ts] for ts in tags]\n",
    "    return encoded_sentences, encoded_tags\n",
    "\n",
    "X, y = encode_data(sentences, pos_tags, word_vocab, tag_vocab)"
   ]
  },
  {
   "cell_type": "code",
   "execution_count": 9,
   "metadata": {},
   "outputs": [],
   "source": [
    "test_file_path = \"../practical/data/test.txt\"\n",
    "t_sentences, t_pos_tags = prepare_data(test_file_path)\n",
    "X_test, y_test = encode_data(t_sentences,t_pos_tags,word_vocab,tag_vocab)"
   ]
  },
  {
   "cell_type": "code",
   "execution_count": 10,
   "metadata": {},
   "outputs": [],
   "source": [
    "from torch.nn.utils.rnn import pad_sequence\n",
    "import torch\n",
    "\n",
    "def pad_sequences(data, pad_value):\n",
    "    return pad_sequence([torch.tensor(seq) for seq in data], batch_first=True, padding_value=pad_value)\n",
    "# whats batch_first?\n",
    "X_padded = pad_sequences(X, word_vocab[\"<PAD>\"])\n",
    "y_padded = pad_sequences(y, -1)  # Use -1 as the padding value for loss functions"
   ]
  },
  {
   "cell_type": "code",
   "execution_count": 11,
   "metadata": {},
   "outputs": [
    {
     "data": {
      "text/plain": [
       "True"
      ]
     },
     "execution_count": 11,
     "metadata": {},
     "output_type": "execute_result"
    }
   ],
   "source": [
    "X_padded.shape  == y_padded.shape"
   ]
  },
  {
   "cell_type": "code",
   "execution_count": 12,
   "metadata": {},
   "outputs": [],
   "source": [
    "X_test_p = pad_sequences(X_test,word_vocab[\"<PAD>\"])\n",
    "y_test_p = pad_sequences(y_test,-1)"
   ]
  },
  {
   "cell_type": "code",
   "execution_count": 14,
   "metadata": {},
   "outputs": [],
   "source": [
    "from torch.utils.data import DataLoader, Dataset"
   ]
  },
  {
   "cell_type": "code",
   "execution_count": 15,
   "metadata": {},
   "outputs": [],
   "source": [
    "class NERData(Dataset):\n",
    "    def __init__(self,X,y):\n",
    "        self.X = X\n",
    "        self.y = y\n",
    "    \n",
    "    def __len__(self):\n",
    "        return self.X.shape[0]\n",
    "    \n",
    "    def __getitem__(self, index):\n",
    "        return self.X[index],self.y[index]\n",
    "        "
   ]
  },
  {
   "cell_type": "code",
   "execution_count": 16,
   "metadata": {},
   "outputs": [],
   "source": [
    "traindata = NERData(X_padded,y_padded)\n",
    "testdata = NERData(X_test_p,y_test_p)"
   ]
  },
  {
   "cell_type": "code",
   "execution_count": 17,
   "metadata": {},
   "outputs": [
    {
     "data": {
      "text/plain": [
       "(8936, 2012)"
      ]
     },
     "execution_count": 17,
     "metadata": {},
     "output_type": "execute_result"
    }
   ],
   "source": [
    "len(traindata),len(testdata)"
   ]
  },
  {
   "cell_type": "code",
   "execution_count": 18,
   "metadata": {},
   "outputs": [],
   "source": [
    "train_loader = DataLoader(traindata,batch_size = 32, shuffle= True)\n",
    "test_loader = DataLoader(testdata,batch_size=32)"
   ]
  },
  {
   "cell_type": "code",
   "execution_count": 20,
   "metadata": {},
   "outputs": [],
   "source": [
    "import torch.nn as nn\n",
    "import numpy as np"
   ]
  },
  {
   "cell_type": "code",
   "execution_count": 21,
   "metadata": {},
   "outputs": [
    {
     "name": "stdout",
     "output_type": "stream",
     "text": [
      "Embedding Dimension: 300\n"
     ]
    }
   ],
   "source": [
    "def load_glove_embeddings(glove_file):\n",
    "    embeddings = {}\n",
    "    with open(glove_file, 'r', encoding='utf-8') as f:\n",
    "        for line in f:\n",
    "            values = line.split()\n",
    "            word = values[0]\n",
    "            vector = np.array(values[1:], dtype=np.float32)\n",
    "            embeddings[word] = vector\n",
    "    return embeddings\n",
    "\n",
    "glove = load_glove_embeddings(\"/home/satya-tt0492/Downloads/word-embeddings/glove.6B.300d.txt\")\n",
    "embedding_dim = len(next(iter(glove.values())))\n",
    "print(f\"Embedding Dimension: {embedding_dim}\")"
   ]
  },
  {
   "cell_type": "code",
   "execution_count": 22,
   "metadata": {},
   "outputs": [],
   "source": [
    "embedding_matrix = []\n",
    "for word in word_vocab.keys():\n",
    "    if word in glove:\n",
    "        embedding_matrix.append(glove[word])  # Pre-trained vector\n",
    "    else:\n",
    "        embedding_matrix.append(np.random.normal(size=(embedding_dim,)))  # Random for unknown words\n",
    "\n",
    "embedding_matrix = np.array(embedding_matrix)\n",
    "embedding_matrix_tensor = torch.tensor(embedding_matrix, dtype=torch.float32)"
   ]
  },
  {
   "cell_type": "code",
   "execution_count": 23,
   "metadata": {},
   "outputs": [],
   "source": [
    "class NERModel(nn.Module):\n",
    "    def __init__(self, vocab_size, tagset_size, embedding_dim=300, hidden_dim=128):\n",
    "        super(NERModel, self).__init__()\n",
    "        self.embedding = nn.Embedding.from_pretrained(embedding_matrix_tensor, freeze=False)\n",
    "        self.lstm = nn.LSTM(embedding_dim, hidden_dim, batch_first=True)\n",
    "        self.fc = nn.Linear(hidden_dim, tagset_size)\n",
    "\n",
    "    def forward(self, x):\n",
    "        x = self.embedding(x) \n",
    "        lstm_out,_ = self.lstm(x) \n",
    "        logits = self.fc(lstm_out)\n",
    "        return logits"
   ]
  },
  {
   "cell_type": "code",
   "execution_count": 24,
   "metadata": {},
   "outputs": [
    {
     "name": "stderr",
     "output_type": "stream",
     "text": [
      "/home/satya-tt0492/anaconda3/envs/ex5/lib/python3.9/site-packages/onnxscript/converter.py:820: FutureWarning: 'onnxscript.values.Op.param_schemas' is deprecated in version 0.1 and will be removed in the future. Please use '.op_signature' instead.\n",
      "  param_schemas = callee.param_schemas()\n",
      "/home/satya-tt0492/anaconda3/envs/ex5/lib/python3.9/site-packages/onnxscript/converter.py:820: FutureWarning: 'onnxscript.values.OnnxFunction.param_schemas' is deprecated in version 0.1 and will be removed in the future. Please use '.op_signature' instead.\n",
      "  param_schemas = callee.param_schemas()\n"
     ]
    }
   ],
   "source": [
    "model = NERModel(vocab_size=len(word_vocab),tagset_size=len(tag_vocab))\n",
    "optimizer = torch.optim.Adam(model.parameters(),lr = 0.001)\n",
    "criterion = nn.CrossEntropyLoss(ignore_index=-1)\n",
    "losses = []"
   ]
  },
  {
   "cell_type": "code",
   "execution_count": 26,
   "metadata": {},
   "outputs": [
    {
     "name": "stdout",
     "output_type": "stream",
     "text": [
      "Epoch 1, Loss: 0.5505\n",
      "Epoch 2, Loss: 0.5603\n",
      "Epoch 3, Loss: 0.5343\n",
      "Epoch 4, Loss: 0.5261\n",
      "Epoch 5, Loss: 0.5160\n",
      "Epoch 6, Loss: 0.5260\n",
      "Epoch 7, Loss: 0.5148\n",
      "Epoch 8, Loss: 0.5111\n",
      "Epoch 9, Loss: 0.5084\n",
      "Epoch 10, Loss: 0.5200\n"
     ]
    }
   ],
   "source": [
    "for epoch in range(10): # total 40\n",
    "    model.train()\n",
    "    total_loss = 0\n",
    "    for x,y in train_loader:\n",
    "        optimizer.zero_grad()\n",
    "        outputs = model(x)\n",
    "        outputs = outputs.view(-1,outputs.shape[-1])\n",
    "        y = y.view(-1)\n",
    "\n",
    "        loss = criterion(outputs,y)\n",
    "        loss.backward()\n",
    "\n",
    "        optimizer.step()\n",
    "        total_loss += loss.item()\n",
    "    losses.append(total_loss)\n",
    "    print(f\"Epoch {epoch + 1}, Loss: {total_loss:.4f}\")\n"
   ]
  },
  {
   "cell_type": "code",
   "execution_count": 27,
   "metadata": {},
   "outputs": [],
   "source": [
    "import matplotlib.pyplot as plt"
   ]
  },
  {
   "cell_type": "code",
   "execution_count": 28,
   "metadata": {},
   "outputs": [
    {
     "data": {
      "text/plain": [
       "[<matplotlib.lines.Line2D at 0x789eb3196ac0>]"
      ]
     },
     "execution_count": 28,
     "metadata": {},
     "output_type": "execute_result"
    },
    {
     "data": {
      "image/png": "[encoded data removed]",
      "text/plain": [
       "<Figure size 640x480 with 1 Axes>"
      ]
     },
     "metadata": {},
     "output_type": "display_data"
    }
   ],
   "source": [
    "plt.plot(losses)"
   ]
  },
  {
   "cell_type": "code",
   "execution_count": 29,
   "metadata": {},
   "outputs": [],
   "source": [
    "from sklearn.metrics import classification_report"
   ]
  },
  {
   "cell_type": "code",
   "execution_count": 30,
   "metadata": {},
   "outputs": [
    {
     "data": {
      "text/plain": [
       "(140840, 140840)"
      ]
     },
     "execution_count": 30,
     "metadata": {},
     "output_type": "execute_result"
    }
   ],
   "source": [
    "model.eval()\n",
    "all_preds, all_labels = [],[]\n",
    "with torch.no_grad():\n",
    "    for x,y in test_loader:\n",
    "        outputs = model(x)\n",
    "        preds = torch.argmax(outputs,dim = -1)\n",
    "        # print(preds.shape,y.shape)\n",
    "        all_preds.extend(preds.view(-1).tolist())\n",
    "        all_labels.extend(y.view(-1).tolist())\n",
    "p = len(all_labels)\n",
    "q = len(all_preds)\n",
    "p,q"
   ]
  },
  {
   "cell_type": "code",
   "execution_count": 31,
   "metadata": {},
   "outputs": [
    {
     "name": "stdout",
     "output_type": "stream",
     "text": [
      "Filtered labels length: 47377\n",
      "Filtered preds length: 47377\n"
     ]
    }
   ],
   "source": [
    "valid_indices = [i for i, label in enumerate(all_labels) if label != -1]\n",
    "filtered_labels = [all_labels[i] for i in valid_indices]\n",
    "filtered_preds = [all_preds[i] for i in valid_indices]\n",
    "\n",
    "print(f\"Filtered labels length: {len(filtered_labels)}\")\n",
    "print(f\"Filtered preds length: {len(filtered_preds)}\")"
   ]
  },
  {
   "cell_type": "code",
   "execution_count": 32,
   "metadata": {},
   "outputs": [
    {
     "name": "stdout",
     "output_type": "stream",
     "text": [
      "              precision    recall  f1-score   support\n",
      "\n",
      "           0       0.87      0.56      0.68       130\n",
      "           1       1.00      1.00      1.00      1975\n",
      "           2       1.00      1.00      1.00        11\n",
      "           3       0.99      1.00      1.00       814\n",
      "           4       1.00      1.00      1.00      1178\n",
      "           5       0.78      0.75      0.76       202\n",
      "           6       1.00      1.00      1.00         4\n",
      "           7       0.97      0.81      0.88       728\n",
      "           8       0.33      0.17      0.22        12\n",
      "           9       0.89      0.84      0.86      1104\n",
      "          10       1.00      1.00      1.00        77\n",
      "          11       0.87      0.88      0.88       202\n",
      "          12       0.99      0.99      0.99      4020\n",
      "          13       0.51      0.96      0.66      2964\n",
      "          14       1.00      0.94      0.97        77\n",
      "          15       0.97      0.76      0.86      4806\n",
      "          16       1.00      1.00      1.00      2390\n",
      "          17       1.00      1.00      1.00       384\n",
      "          18       1.00      0.50      0.67         2\n",
      "          19       0.30      0.30      0.30        10\n",
      "          20       1.00      1.00      1.00      1214\n",
      "          21       0.98      0.87      0.92      3034\n",
      "          22       0.96      0.91      0.93      1269\n",
      "          23       1.00      0.96      0.98       434\n",
      "          24       0.97      0.98      0.98      5071\n",
      "          25       1.00      0.98      0.99        49\n",
      "          26       1.00      1.00      1.00       323\n",
      "          27       0.96      1.00      0.98        48\n",
      "          28       1.00      1.00      1.00        77\n",
      "          29       0.71      0.63      0.67        71\n",
      "          30       0.97      0.89      0.93      6642\n",
      "          31       0.99      0.92      0.95      1918\n",
      "          32       1.00      0.75      0.86         4\n",
      "          33       0.94      0.87      0.90      1354\n",
      "          34       1.00      1.00      1.00       421\n",
      "          35       1.00      0.99      0.99        93\n",
      "          36       0.95      0.91      0.93      1679\n",
      "          37       0.95      0.90      0.93       913\n",
      "          38       1.00      1.00      1.00       110\n",
      "          39       0.96      0.88      0.92       539\n",
      "          40       0.98      1.00      0.99       316\n",
      "          42       1.00      1.00      1.00       238\n",
      "          43       1.00      0.99      1.00       470\n",
      "\n",
      "    accuracy                           0.92     47377\n",
      "   macro avg       0.93      0.88      0.90     47377\n",
      "weighted avg       0.95      0.92      0.93     47377\n",
      "\n"
     ]
    }
   ],
   "source": [
    "print(classification_report(filtered_labels,filtered_preds))"
   ]
  },
  {
   "cell_type": "code",
   "execution_count": 33,
   "metadata": {},
   "outputs": [],
   "source": [
    "sent = \"The quick brown fox jumps over the lazy dog\"\n",
    "sent = sent.split()\n",
    "inp = torch.tensor([word_vocab.get(word,word_vocab[\"<UNK>\"]) for word in sent])\n",
    "outputs = model(inp)"
   ]
  },
  {
   "cell_type": "code",
   "execution_count": 34,
   "metadata": {},
   "outputs": [],
   "source": [
    "output = torch.argmax(outputs,dim=-1).view(-1)"
   ]
  },
  {
   "cell_type": "code",
   "execution_count": 35,
   "metadata": {},
   "outputs": [],
   "source": [
    "output = output.tolist()\n",
    "tags = [idx2tag[idx] for idx in output]"
   ]
  },
  {
   "cell_type": "code",
   "execution_count": 36,
   "metadata": {},
   "outputs": [
    {
     "data": {
      "text/plain": [
       "['DT', 'JJ', 'JJ', 'NN', 'JJ', 'IN', 'DT', 'JJ', 'NN']"
      ]
     },
     "execution_count": 36,
     "metadata": {},
     "output_type": "execute_result"
    }
   ],
   "source": [
    "tags"
   ]
  },
  {
   "cell_type": "code",
   "execution_count": null,
   "metadata": {},
   "outputs": [],
   "source": []
  }
 ],
 "metadata": {
  "kernelspec": {
   "display_name": "ex5",
   "language": "python",
   "name": "python3"
  },
  "language_info": {
   "codemirror_mode": {
    "name": "ipython",
    "version": 3
   },
   "file_extension": ".py",
   "mimetype": "text/x-python",
   "name": "python",
   "nbconvert_exporter": "python",
   "pygments_lexer": "ipython3",
   "version": "3.9.19"
  }
 },
 "nbformat": 4,
 "nbformat_minor": 2
}
