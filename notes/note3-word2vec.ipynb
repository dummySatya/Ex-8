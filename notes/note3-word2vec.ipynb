{
 "cells": [
  {
   "cell_type": "markdown",
   "metadata": {},
   "source": [
    "### Building a Word2Vec model using gensim"
   ]
  },
  {
   "cell_type": "code",
   "execution_count": 1,
   "metadata": {},
   "outputs": [],
   "source": [
    "import gensim"
   ]
  },
  {
   "cell_type": "code",
   "execution_count": 110,
   "metadata": {},
   "outputs": [],
   "source": [
    "txt = \"\"\n",
    "with open(\"./data/brba-data.txt\",\"r\") as f:\n",
    "    txt = f.readlines()"
   ]
  },
  {
   "cell_type": "code",
   "execution_count": 111,
   "metadata": {},
   "outputs": [
    {
     "data": {
      "text/plain": [
       "12900"
      ]
     },
     "execution_count": 111,
     "metadata": {},
     "output_type": "execute_result"
    }
   ],
   "source": [
    "len(txt)"
   ]
  },
  {
   "cell_type": "code",
   "execution_count": 112,
   "metadata": {},
   "outputs": [
    {
     "data": {
      "text/plain": [
       "['Scene: Desert\\n',\n",
       " '\\n',\n",
       " \"Walter: My name is Walter Hartwell White. I live at 308 Negra Arroyo Lane Albuquerque, New Mexico, 87104. To all law enforcement entities, this is not an admission of guilt. I am speaking to my family now. Skyler you are the love of my life. I hope you know that. Walter Junior you're my big man. There are going to be some things. Things that you'll come to learn about me in the next few days. I just want you to know that no matter how it may look, I only had you in my heart. Goodbye.\\n\",\n",
       " '\\n',\n",
       " 'Scene: White Residence\\n',\n",
       " '(Three weeks earlier)\\n',\n",
       " '\\n',\n",
       " 'Skyler: Happy Birthday.\\n',\n",
       " '\\n',\n",
       " 'Walter: Look at that.\\n']"
      ]
     },
     "execution_count": 112,
     "metadata": {},
     "output_type": "execute_result"
    }
   ],
   "source": [
    "txt[:10]"
   ]
  },
  {
   "cell_type": "code",
   "execution_count": 113,
   "metadata": {},
   "outputs": [],
   "source": [
    "txt = [sent.replace('\\n',\"\").replace(\":\", \" says\") for sent in txt]"
   ]
  },
  {
   "cell_type": "code",
   "execution_count": 114,
   "metadata": {},
   "outputs": [
    {
     "data": {
      "text/plain": [
       "['Scene says Desert',\n",
       " '',\n",
       " \"Walter says My name is Walter Hartwell White. I live at 308 Negra Arroyo Lane Albuquerque, New Mexico, 87104. To all law enforcement entities, this is not an admission of guilt. I am speaking to my family now. Skyler you are the love of my life. I hope you know that. Walter Junior you're my big man. There are going to be some things. Things that you'll come to learn about me in the next few days. I just want you to know that no matter how it may look, I only had you in my heart. Goodbye.\",\n",
       " '',\n",
       " 'Scene says White Residence',\n",
       " '(Three weeks earlier)',\n",
       " '',\n",
       " 'Skyler says Happy Birthday.',\n",
       " '',\n",
       " 'Walter says Look at that.']"
      ]
     },
     "execution_count": 114,
     "metadata": {},
     "output_type": "execute_result"
    }
   ],
   "source": [
    "txt[:10]"
   ]
  },
  {
   "cell_type": "code",
   "execution_count": 115,
   "metadata": {},
   "outputs": [
    {
     "data": {
      "text/plain": [
       "12900"
      ]
     },
     "execution_count": 115,
     "metadata": {},
     "output_type": "execute_result"
    }
   ],
   "source": [
    "len(txt)"
   ]
  },
  {
   "cell_type": "code",
   "execution_count": 116,
   "metadata": {},
   "outputs": [],
   "source": [
    "txt = [sent for sent in txt if len(sent) > 0]"
   ]
  },
  {
   "cell_type": "code",
   "execution_count": 117,
   "metadata": {},
   "outputs": [
    {
     "data": {
      "text/plain": [
       "['Scene says Desert',\n",
       " \"Walter says My name is Walter Hartwell White. I live at 308 Negra Arroyo Lane Albuquerque, New Mexico, 87104. To all law enforcement entities, this is not an admission of guilt. I am speaking to my family now. Skyler you are the love of my life. I hope you know that. Walter Junior you're my big man. There are going to be some things. Things that you'll come to learn about me in the next few days. I just want you to know that no matter how it may look, I only had you in my heart. Goodbye.\",\n",
       " 'Scene says White Residence',\n",
       " '(Three weeks earlier)',\n",
       " 'Skyler says Happy Birthday.',\n",
       " 'Walter says Look at that.',\n",
       " \"Skyler says That is veggie bacon. Believe it or not. Zero cholesterol. You won't even taste the difference. What time do you think you'll be home?\",\n",
       " 'Walter says Same time.',\n",
       " \"Skyler says I don't want him dicking you around tonight. You get paid till 5, you work till 5, no later.\",\n",
       " 'Walter says Hey.']"
      ]
     },
     "execution_count": 117,
     "metadata": {},
     "output_type": "execute_result"
    }
   ],
   "source": [
    "txt[:10]"
   ]
  },
  {
   "cell_type": "code",
   "execution_count": 118,
   "metadata": {},
   "outputs": [
    {
     "data": {
      "text/plain": [
       "6460"
      ]
     },
     "execution_count": 118,
     "metadata": {},
     "output_type": "execute_result"
    }
   ],
   "source": [
    "len(txt)"
   ]
  },
  {
   "cell_type": "code",
   "execution_count": 142,
   "metadata": {},
   "outputs": [],
   "source": [
    "from nltk import sent_tokenize\n",
    "from gensim.utils import simple_preprocess"
   ]
  },
  {
   "cell_type": "code",
   "execution_count": 154,
   "metadata": {},
   "outputs": [],
   "source": [
    "story = []"
   ]
  },
  {
   "cell_type": "code",
   "execution_count": 155,
   "metadata": {},
   "outputs": [],
   "source": [
    "for sent in txt:\n",
    "    token_sent = sent.lower()\n",
    "    story.append(simple_preprocess(token_sent,min_len=4))\n"
   ]
  },
  {
   "cell_type": "code",
   "execution_count": 156,
   "metadata": {},
   "outputs": [
    {
     "data": {
      "text/plain": [
       "[['scene', 'says', 'desert'],\n",
       " ['walter',\n",
       "  'says',\n",
       "  'name',\n",
       "  'walter',\n",
       "  'hartwell',\n",
       "  'white',\n",
       "  'live',\n",
       "  'negra',\n",
       "  'arroyo',\n",
       "  'lane',\n",
       "  'albuquerque',\n",
       "  'mexico',\n",
       "  'enforcement',\n",
       "  'entities',\n",
       "  'this',\n",
       "  'admission',\n",
       "  'guilt',\n",
       "  'speaking',\n",
       "  'family',\n",
       "  'skyler',\n",
       "  'love',\n",
       "  'life',\n",
       "  'hope',\n",
       "  'know',\n",
       "  'that',\n",
       "  'walter',\n",
       "  'junior',\n",
       "  'there',\n",
       "  'going',\n",
       "  'some',\n",
       "  'things',\n",
       "  'things',\n",
       "  'that',\n",
       "  'come',\n",
       "  'learn',\n",
       "  'about',\n",
       "  'next',\n",
       "  'days',\n",
       "  'just',\n",
       "  'want',\n",
       "  'know',\n",
       "  'that',\n",
       "  'matter',\n",
       "  'look',\n",
       "  'only',\n",
       "  'heart',\n",
       "  'goodbye'],\n",
       " ['scene', 'says', 'white', 'residence']]"
      ]
     },
     "execution_count": 156,
     "metadata": {},
     "output_type": "execute_result"
    }
   ],
   "source": [
    "story[:3]"
   ]
  },
  {
   "cell_type": "code",
   "execution_count": 157,
   "metadata": {},
   "outputs": [
    {
     "data": {
      "text/plain": [
       "6460"
      ]
     },
     "execution_count": 157,
     "metadata": {},
     "output_type": "execute_result"
    }
   ],
   "source": [
    "len(story)"
   ]
  },
  {
   "cell_type": "code",
   "execution_count": 158,
   "metadata": {},
   "outputs": [],
   "source": [
    "model = gensim.models.Word2Vec(\n",
    "    window = 5,\n",
    "    min_count=2\n",
    ")"
   ]
  },
  {
   "cell_type": "code",
   "execution_count": 159,
   "metadata": {},
   "outputs": [],
   "source": [
    "model.build_vocab(story)"
   ]
  },
  {
   "cell_type": "code",
   "execution_count": 160,
   "metadata": {},
   "outputs": [
    {
     "data": {
      "text/plain": [
       "6460"
      ]
     },
     "execution_count": 160,
     "metadata": {},
     "output_type": "execute_result"
    }
   ],
   "source": [
    "model.corpus_count"
   ]
  },
  {
   "cell_type": "code",
   "execution_count": 161,
   "metadata": {},
   "outputs": [
    {
     "data": {
      "text/plain": [
       "(193390, 291370)"
      ]
     },
     "execution_count": 161,
     "metadata": {},
     "output_type": "execute_result"
    }
   ],
   "source": [
    "model.train(story,total_examples=model.corpus_count,epochs=model.epochs)"
   ]
  },
  {
   "cell_type": "code",
   "execution_count": 162,
   "metadata": {},
   "outputs": [
    {
     "data": {
      "text/plain": [
       "[('jesse', 0.9995893836021423),\n",
       " ('skyler', 0.9994950294494629),\n",
       " ('hank', 0.9994397163391113),\n",
       " ('walt', 0.999352216720581),\n",
       " ('saul', 0.9993491172790527),\n",
       " ('marie', 0.9993295073509216),\n",
       " ('jane', 0.9992544651031494),\n",
       " ('badger', 0.9991409182548523),\n",
       " ('yeah', 0.999056875705719),\n",
       " ('steve', 0.9990451335906982)]"
      ]
     },
     "execution_count": 162,
     "metadata": {},
     "output_type": "execute_result"
    }
   ],
   "source": [
    "model.wv.most_similar(\"walter\")"
   ]
  },
  {
   "cell_type": "code",
   "execution_count": 167,
   "metadata": {},
   "outputs": [
    {
     "data": {
      "text/plain": [
       "'saul'"
      ]
     },
     "execution_count": 167,
     "metadata": {},
     "output_type": "execute_result"
    }
   ],
   "source": [
    "model.wv.doesnt_match(['marie','hank','saul'])"
   ]
  },
  {
   "cell_type": "code",
   "execution_count": 168,
   "metadata": {},
   "outputs": [
    {
     "data": {
      "text/plain": [
       "array([-0.43887055,  0.34081435,  0.15101771,  0.04315789, -0.1283621 ,\n",
       "       -0.44947276,  0.37962434,  0.81392366, -0.06860617, -0.40335256,\n",
       "       -0.06915604, -0.63560337, -0.0413849 ,  0.17727022, -0.09895984,\n",
       "       -0.2014012 ,  0.26714882, -0.4762287 ,  0.15089296, -0.78362787,\n",
       "        0.14730045,  0.28750035,  0.33339944,  0.01046642,  0.13457146,\n",
       "        0.06008428, -0.33925304,  0.02045707, -0.33760065, -0.01528114,\n",
       "        0.44504243, -0.03814797,  0.26689872, -0.44614285, -0.32718593,\n",
       "        0.2632043 ,  0.0062761 , -0.3464539 ,  0.0682815 , -0.6870623 ,\n",
       "       -0.00715544, -0.24094802, -0.41857317, -0.06536856,  0.2464687 ,\n",
       "       -0.368253  , -0.33499786,  0.03673598,  0.26577032,  0.27274832,\n",
       "        0.15888363, -0.2058587 , -0.08862621, -0.02151181,  0.21641453,\n",
       "        0.15759075,  0.10944643, -0.26882002, -0.31333518,  0.05542568,\n",
       "        0.06373267,  0.07567377,  0.09416491, -0.17766474, -0.5669725 ,\n",
       "        0.43322015, -0.00336772,  0.3530082 , -0.7198728 ,  0.6940451 ,\n",
       "       -0.08263148,  0.20544419,  0.5894764 , -0.11293598,  0.54314345,\n",
       "        0.3532542 , -0.07331851, -0.27562943, -0.33503625,  0.03876737,\n",
       "       -0.04090899,  0.12920982, -0.243928  ,  0.79066455, -0.1924824 ,\n",
       "       -0.05530657,  0.2718424 ,  0.35890263,  0.5544785 ,  0.30287075,\n",
       "        0.54037356,  0.1811588 ,  0.24459168,  0.06861255,  0.79218775,\n",
       "        0.4678498 , -0.22143388, -0.39304224,  0.01016262, -0.16196993],\n",
       "      dtype=float32)"
      ]
     },
     "execution_count": 168,
     "metadata": {},
     "output_type": "execute_result"
    }
   ],
   "source": [
    "model.wv[\"walt\"]"
   ]
  },
  {
   "cell_type": "code",
   "execution_count": 169,
   "metadata": {},
   "outputs": [
    {
     "data": {
      "text/plain": [
       "(100,)"
      ]
     },
     "execution_count": 169,
     "metadata": {},
     "output_type": "execute_result"
    }
   ],
   "source": [
    "model.wv[\"walt\"].shape"
   ]
  },
  {
   "cell_type": "code",
   "execution_count": 170,
   "metadata": {},
   "outputs": [
    {
     "data": {
      "text/plain": [
       "0.9993522"
      ]
     },
     "execution_count": 170,
     "metadata": {},
     "output_type": "execute_result"
    }
   ],
   "source": [
    "model.wv.similarity('walt','walter')"
   ]
  },
  {
   "cell_type": "code",
   "execution_count": 177,
   "metadata": {},
   "outputs": [
    {
     "data": {
      "text/plain": [
       "0.99928856"
      ]
     },
     "execution_count": 177,
     "metadata": {},
     "output_type": "execute_result"
    }
   ],
   "source": [
    "model.wv.similarity('hank','jesse')"
   ]
  },
  {
   "cell_type": "markdown",
   "metadata": {},
   "source": [
    "Note- This is not a very good training as data was barely processed and its just a transcript of the show so results are not very good, just for learning sake ive done this"
   ]
  },
  {
   "cell_type": "markdown",
   "metadata": {},
   "source": []
  }
 ],
 "metadata": {
  "kernelspec": {
   "display_name": "ex5",
   "language": "python",
   "name": "python3"
  },
  "language_info": {
   "codemirror_mode": {
    "name": "ipython",
    "version": 3
   },
   "file_extension": ".py",
   "mimetype": "text/x-python",
   "name": "python",
   "nbconvert_exporter": "python",
   "pygments_lexer": "ipython3",
   "version": "3.9.19"
  }
 },
 "nbformat": 4,
 "nbformat_minor": 2
}
