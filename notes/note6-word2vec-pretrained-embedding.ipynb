{
 "cells": [
  {
   "cell_type": "code",
   "execution_count": 1,
   "metadata": {},
   "outputs": [],
   "source": [
    "# Data from - https://www.clips.uantwerpen.be/conll2000/chunking/"
   ]
  },
  {
   "cell_type": "code",
   "execution_count": 3,
   "metadata": {},
   "outputs": [],
   "source": [
    "def prepare_data(file_path):\n",
    "    sentences = []\n",
    "    tags = []\n",
    "    with open(file_path, \"r\") as f:\n",
    "        sentence = []\n",
    "        pos_tags = []\n",
    "        for line in f:\n",
    "            line = line.strip()\n",
    "            if line == \"\":  # Sentence boundary\n",
    "                if sentence:\n",
    "                    sentences.append(sentence)\n",
    "                    tags.append(pos_tags)\n",
    "                    sentence = []\n",
    "                    pos_tags = []\n",
    "            else:\n",
    "                parts = line.split()\n",
    "                if len(parts) >= 2:  # Ensure the line has at least word and POS tag\n",
    "                    word, pos_tag = parts[0], parts[1]\n",
    "                    sentence.append(word)\n",
    "                    pos_tags.append(pos_tag)\n",
    "        if sentence:\n",
    "            sentences.append(sentence)\n",
    "            tags.append(pos_tags)\n",
    "    return sentences, tags\n",
    "\n",
    "# Usage\n",
    "file_path = \"../practical/data/train.txt\"\n",
    "sentences, pos_tags = prepare_data(file_path)\n"
   ]
  },
  {
   "cell_type": "code",
   "execution_count": 4,
   "metadata": {},
   "outputs": [
    {
     "name": "stdout",
     "output_type": "stream",
     "text": [
      "['Confidence', 'in', 'the', 'pound', 'is', 'widely', 'expected', 'to', 'take', 'another', 'sharp', 'dive', 'if', 'trade', 'figures', 'for', 'September', ',', 'due', 'for', 'release', 'tomorrow', ',', 'fail', 'to', 'show', 'a', 'substantial', 'improvement', 'from', 'July', 'and', 'August', \"'s\", 'near-record', 'deficits', '.']\n"
     ]
    }
   ],
   "source": [
    "print(sentences[0])"
   ]
  },
  {
   "cell_type": "code",
   "execution_count": 5,
   "metadata": {},
   "outputs": [
    {
     "name": "stdout",
     "output_type": "stream",
     "text": [
      "['NN', 'IN', 'DT', 'NN', 'VBZ', 'RB', 'VBN', 'TO', 'VB', 'DT', 'JJ', 'NN', 'IN', 'NN', 'NNS', 'IN', 'NNP', ',', 'JJ', 'IN', 'NN', 'NN', ',', 'VB', 'TO', 'VB', 'DT', 'JJ', 'NN', 'IN', 'NNP', 'CC', 'NNP', 'POS', 'JJ', 'NNS', '.']\n"
     ]
    }
   ],
   "source": [
    "print(pos_tags[0])"
   ]
  },
  {
   "cell_type": "code",
   "execution_count": 6,
   "metadata": {},
   "outputs": [
    {
     "data": {
      "text/plain": [
       "8936"
      ]
     },
     "execution_count": 6,
     "metadata": {},
     "output_type": "execute_result"
    }
   ],
   "source": [
    "len(sentences)"
   ]
  },
  {
   "cell_type": "code",
   "execution_count": 7,
   "metadata": {},
   "outputs": [],
   "source": [
    "word_vocab = {word: idx for idx, word in enumerate(set(w for s in sentences for w in s), start=1)}\n",
    "word_vocab[\"<PAD>\"] = 0  # For padding\n",
    "word_vocab[\"<UNK>\"] = len(word_vocab)  # For unknown words\n",
    "\n",
    "tag_vocab = {tag: idx for idx, tag in enumerate(set(t for ts in pos_tags for t in ts))}"
   ]
  },
  {
   "cell_type": "code",
   "execution_count": 8,
   "metadata": {},
   "outputs": [],
   "source": [
    "idx2tag = {tag_vocab[tag] : tag for tag in tag_vocab.keys()}"
   ]
  },
  {
   "cell_type": "code",
   "execution_count": 9,
   "metadata": {},
   "outputs": [
    {
     "data": {
      "text/plain": [
       "{0: 'RB',\n",
       " 1: 'EX',\n",
       " 2: 'NN',\n",
       " 3: 'VBN',\n",
       " 4: 'POS',\n",
       " 5: 'VB',\n",
       " 6: 'CD',\n",
       " 7: 'VBZ',\n",
       " 8: 'WDT',\n",
       " 9: '$',\n",
       " 10: 'VBG',\n",
       " 11: 'RBR',\n",
       " 12: 'SYM',\n",
       " 13: 'MD',\n",
       " 14: 'FW',\n",
       " 15: '.',\n",
       " 16: 'CC',\n",
       " 17: ')',\n",
       " 18: 'PRP',\n",
       " 19: 'WP',\n",
       " 20: 'RBS',\n",
       " 21: 'WRB',\n",
       " 22: 'UH',\n",
       " 23: 'NNP',\n",
       " 24: ':',\n",
       " 25: 'JJR',\n",
       " 26: 'WP$',\n",
       " 27: ',',\n",
       " 28: '``',\n",
       " 29: '#',\n",
       " 30: 'NNPS',\n",
       " 31: 'TO',\n",
       " 32: 'RP',\n",
       " 33: 'NNS',\n",
       " 34: 'VBD',\n",
       " 35: 'VBP',\n",
       " 36: 'JJS',\n",
       " 37: 'PDT',\n",
       " 38: 'PRP$',\n",
       " 39: 'JJ',\n",
       " 40: '(',\n",
       " 41: 'IN',\n",
       " 42: 'DT',\n",
       " 43: \"''\"}"
      ]
     },
     "execution_count": 9,
     "metadata": {},
     "output_type": "execute_result"
    }
   ],
   "source": [
    "idx2tag"
   ]
  },
  {
   "cell_type": "code",
   "execution_count": 10,
   "metadata": {},
   "outputs": [
    {
     "data": {
      "text/plain": [
       "19124"
      ]
     },
     "execution_count": 10,
     "metadata": {},
     "output_type": "execute_result"
    }
   ],
   "source": [
    "len(word_vocab)"
   ]
  },
  {
   "cell_type": "code",
   "execution_count": 11,
   "metadata": {},
   "outputs": [
    {
     "data": {
      "text/plain": [
       "44"
      ]
     },
     "execution_count": 11,
     "metadata": {},
     "output_type": "execute_result"
    }
   ],
   "source": [
    "len(tag_vocab)"
   ]
  },
  {
   "cell_type": "code",
   "execution_count": 12,
   "metadata": {},
   "outputs": [
    {
     "data": {
      "text/plain": [
       "{'RB': 0,\n",
       " 'EX': 1,\n",
       " 'NN': 2,\n",
       " 'VBN': 3,\n",
       " 'POS': 4,\n",
       " 'VB': 5,\n",
       " 'CD': 6,\n",
       " 'VBZ': 7,\n",
       " 'WDT': 8,\n",
       " '$': 9,\n",
       " 'VBG': 10,\n",
       " 'RBR': 11,\n",
       " 'SYM': 12,\n",
       " 'MD': 13,\n",
       " 'FW': 14,\n",
       " '.': 15,\n",
       " 'CC': 16,\n",
       " ')': 17,\n",
       " 'PRP': 18,\n",
       " 'WP': 19,\n",
       " 'RBS': 20,\n",
       " 'WRB': 21,\n",
       " 'UH': 22,\n",
       " 'NNP': 23,\n",
       " ':': 24,\n",
       " 'JJR': 25,\n",
       " 'WP$': 26,\n",
       " ',': 27,\n",
       " '``': 28,\n",
       " '#': 29,\n",
       " 'NNPS': 30,\n",
       " 'TO': 31,\n",
       " 'RP': 32,\n",
       " 'NNS': 33,\n",
       " 'VBD': 34,\n",
       " 'VBP': 35,\n",
       " 'JJS': 36,\n",
       " 'PDT': 37,\n",
       " 'PRP$': 38,\n",
       " 'JJ': 39,\n",
       " '(': 40,\n",
       " 'IN': 41,\n",
       " 'DT': 42,\n",
       " \"''\": 43}"
      ]
     },
     "execution_count": 12,
     "metadata": {},
     "output_type": "execute_result"
    }
   ],
   "source": [
    "tag_vocab"
   ]
  },
  {
   "cell_type": "code",
   "execution_count": 50,
   "metadata": {},
   "outputs": [],
   "source": [
    "def encode_data(sentences, tags, word_vocab, tag_vocab):\n",
    "    encoded_sentences = [[word_vocab.get(w, word_vocab[\"<UNK>\"]) for w in s] for s in sentences]\n",
    "    encoded_tags = [[tag_vocab[t] for t in ts] for ts in tags]\n",
    "    return encoded_sentences, encoded_tags\n",
    "\n",
    "X, y = encode_data(sentences, pos_tags, word_vocab, tag_vocab)"
   ]
  },
  {
   "cell_type": "code",
   "execution_count": 51,
   "metadata": {},
   "outputs": [],
   "source": [
    "test_file_path = \"../practical/data/test.txt\"\n",
    "t_sentences, t_pos_tags = prepare_data(test_file_path)\n",
    "X_test, y_test = encode_data(t_sentences,t_pos_tags,word_vocab,tag_vocab)"
   ]
  },
  {
   "cell_type": "code",
   "execution_count": 52,
   "metadata": {},
   "outputs": [
    {
     "data": {
      "text/plain": [
       "8936"
      ]
     },
     "execution_count": 52,
     "metadata": {},
     "output_type": "execute_result"
    }
   ],
   "source": [
    "len(X)"
   ]
  },
  {
   "cell_type": "code",
   "execution_count": 53,
   "metadata": {},
   "outputs": [],
   "source": [
    "from torch.nn.utils.rnn import pad_sequence\n",
    "import torch\n",
    "\n",
    "def pad_sequences(data, pad_value):\n",
    "    return pad_sequence([torch.tensor(seq) for seq in data], batch_first=True, padding_value=pad_value)\n",
    "# whats batch_first?\n",
    "X_padded = pad_sequences(X, word_vocab[\"<PAD>\"])\n",
    "y_padded = pad_sequences(y, -1)  # Use -1 as the padding value for loss functions"
   ]
  },
  {
   "cell_type": "code",
   "execution_count": 54,
   "metadata": {},
   "outputs": [
    {
     "data": {
      "text/plain": [
       "True"
      ]
     },
     "execution_count": 54,
     "metadata": {},
     "output_type": "execute_result"
    }
   ],
   "source": [
    "X_padded.shape  == y_padded.shape"
   ]
  },
  {
   "cell_type": "code",
   "execution_count": 55,
   "metadata": {},
   "outputs": [],
   "source": [
    "X_test_p = pad_sequences(X_test,word_vocab[\"<PAD>\"])\n",
    "y_test_p = pad_sequences(y_test,-1)"
   ]
  },
  {
   "cell_type": "code",
   "execution_count": 56,
   "metadata": {},
   "outputs": [
    {
     "data": {
      "text/plain": [
       "torch.Size([8936, 78])"
      ]
     },
     "execution_count": 56,
     "metadata": {},
     "output_type": "execute_result"
    }
   ],
   "source": [
    "X_padded.shape"
   ]
  },
  {
   "cell_type": "code",
   "execution_count": 57,
   "metadata": {},
   "outputs": [
    {
     "data": {
      "text/plain": [
       "8936"
      ]
     },
     "execution_count": 57,
     "metadata": {},
     "output_type": "execute_result"
    }
   ],
   "source": [
    "y_padded.shape[0]"
   ]
  },
  {
   "cell_type": "code",
   "execution_count": 58,
   "metadata": {},
   "outputs": [
    {
     "data": {
      "text/plain": [
       "tensor([ 8056, 15157,  8508, 16291,  9984,  7841, 10589, 10146, 14019, 11929,\n",
       "         7116,   482, 11078, 12282,  9875,   219, 16064, 10973, 14684,   219,\n",
       "         1078,  1322, 10973,  2405, 10146,  6588,  3218, 16549,  3712,  2685,\n",
       "         8835, 18353,   588,  2192, 11518,  4111, 14131,     0,     0,     0,\n",
       "            0,     0,     0,     0,     0,     0,     0,     0,     0,     0,\n",
       "            0,     0,     0,     0,     0,     0,     0,     0,     0,     0,\n",
       "            0,     0,     0,     0,     0,     0,     0,     0,     0,     0,\n",
       "            0,     0,     0,     0,     0,     0,     0,     0])"
      ]
     },
     "execution_count": 58,
     "metadata": {},
     "output_type": "execute_result"
    }
   ],
   "source": [
    "X_padded[0]"
   ]
  },
  {
   "cell_type": "code",
   "execution_count": 59,
   "metadata": {},
   "outputs": [
    {
     "data": {
      "text/plain": [
       "tensor([ 2, 41, 42,  2,  7,  0,  3, 31,  5, 42, 39,  2, 41,  2, 33, 41, 23, 27,\n",
       "        39, 41,  2,  2, 27,  5, 31,  5, 42, 39,  2, 41, 23, 16, 23,  4, 39, 33,\n",
       "        15, -1, -1, -1, -1, -1, -1, -1, -1, -1, -1, -1, -1, -1, -1, -1, -1, -1,\n",
       "        -1, -1, -1, -1, -1, -1, -1, -1, -1, -1, -1, -1, -1, -1, -1, -1, -1, -1,\n",
       "        -1, -1, -1, -1, -1, -1])"
      ]
     },
     "execution_count": 59,
     "metadata": {},
     "output_type": "execute_result"
    }
   ],
   "source": [
    "y_padded[0]"
   ]
  },
  {
   "cell_type": "code",
   "execution_count": 60,
   "metadata": {},
   "outputs": [],
   "source": [
    "from torch.utils.data import DataLoader, Dataset"
   ]
  },
  {
   "cell_type": "code",
   "execution_count": 61,
   "metadata": {},
   "outputs": [],
   "source": [
    "class NERData(Dataset):\n",
    "    def __init__(self,X,y):\n",
    "        self.X = X\n",
    "        self.y = y\n",
    "    \n",
    "    def __len__(self):\n",
    "        return self.X.shape[0]\n",
    "    \n",
    "    def __getitem__(self, index):\n",
    "        return self.X[index],self.y[index]\n",
    "        "
   ]
  },
  {
   "cell_type": "code",
   "execution_count": 62,
   "metadata": {},
   "outputs": [],
   "source": [
    "traindata = NERData(X_padded,y_padded)\n",
    "testdata = NERData(X_test_p,y_test_p)"
   ]
  },
  {
   "cell_type": "code",
   "execution_count": 63,
   "metadata": {},
   "outputs": [
    {
     "data": {
      "text/plain": [
       "(8936, 2012)"
      ]
     },
     "execution_count": 63,
     "metadata": {},
     "output_type": "execute_result"
    }
   ],
   "source": [
    "len(traindata),len(testdata)"
   ]
  },
  {
   "cell_type": "code",
   "execution_count": 64,
   "metadata": {},
   "outputs": [],
   "source": [
    "train_loader = DataLoader(traindata,batch_size = 32, shuffle= True)\n",
    "test_loader = DataLoader(testdata,batch_size=32)"
   ]
  },
  {
   "cell_type": "code",
   "execution_count": 65,
   "metadata": {},
   "outputs": [],
   "source": [
    "import torch.nn as nn"
   ]
  },
  {
   "cell_type": "code",
   "execution_count": 28,
   "metadata": {},
   "outputs": [
    {
     "name": "stdout",
     "output_type": "stream",
     "text": [
      "Embedding Dimension: 300\n"
     ]
    }
   ],
   "source": [
    "from gensim.models import KeyedVectors\n",
    "\n",
    "# Load the pre-trained Word2Vec model (binary format)\n",
    "word2vec = KeyedVectors.load_word2vec_format(\"/home/satya-tt0492/Downloads/archive(2)/GoogleNews-vectors-negative300.bin\", binary=True)\n",
    "\n",
    "# Vocabulary size and embedding dimension\n",
    "embedding_dim = word2vec.vector_size\n",
    "print(f\"Embedding Dimension: {embedding_dim}\")"
   ]
  },
  {
   "cell_type": "code",
   "execution_count": 66,
   "metadata": {},
   "outputs": [],
   "source": [
    "import numpy as np\n",
    "embedding_matrix = []\n",
    "for word in word_vocab.keys():\n",
    "    if word in word2vec:\n",
    "        embedding_matrix.append(word2vec[word])  # Pre-trained vector\n",
    "    else:\n",
    "        embedding_matrix.append(np.random.normal(size=(embedding_dim,)))  # Random for unknown words\n",
    "\n",
    "embedding_matrix = np.array(embedding_matrix)\n",
    "embedding_matrix_tensor = torch.tensor(embedding_matrix, dtype=torch.float32)"
   ]
  },
  {
   "cell_type": "code",
   "execution_count": 90,
   "metadata": {},
   "outputs": [],
   "source": [
    "class NERModel(nn.Module):\n",
    "    def __init__(self, vocab_size, tagset_size, embedding_dim=300, hidden_dim=128):\n",
    "        super(NERModel, self).__init__()\n",
    "        self.embedding = nn.Embedding.from_pretrained(embedding_matrix_tensor, freeze=False)\n",
    "        self.lstm = nn.LSTM(embedding_dim, hidden_dim, batch_first=True)  # Single-direction LSTM\n",
    "        # self.relu = nn.ReLU()\n",
    "        self.fc = nn.Linear(hidden_dim, tagset_size)  # Output layer\n",
    "\n",
    "    def forward(self, x):\n",
    "        x = self.embedding(x)  # Word embeddings\n",
    "        lstm_out,_ = self.lstm(x)  # LSTM output\n",
    "        # lstm_out = self.relu(lstm_out)\n",
    "        logits = self.fc(lstm_out)  # Fully connected layer for tag predictions\n",
    "        return logits"
   ]
  },
  {
   "cell_type": "code",
   "execution_count": 98,
   "metadata": {},
   "outputs": [],
   "source": [
    "model = NERModel(vocab_size=len(word_vocab),tagset_size=len(tag_vocab))\n",
    "optimizer = torch.optim.Adam(model.parameters(),lr = 0.001)\n",
    "criterion = nn.CrossEntropyLoss(ignore_index=-1)\n",
    "losses = []"
   ]
  },
  {
   "cell_type": "code",
   "execution_count": 99,
   "metadata": {},
   "outputs": [
    {
     "name": "stdout",
     "output_type": "stream",
     "text": [
      "Epoch 1, Loss: 145.2768\n",
      "Epoch 2, Loss: 13.3059\n",
      "Epoch 3, Loss: 8.4920\n",
      "Epoch 4, Loss: 6.1331\n",
      "Epoch 5, Loss: 4.5398\n",
      "Epoch 6, Loss: 3.3938\n",
      "Epoch 7, Loss: 2.5607\n",
      "Epoch 8, Loss: 1.9510\n",
      "Epoch 9, Loss: 1.5430\n",
      "Epoch 10, Loss: 1.2675\n",
      "Epoch 11, Loss: 1.0657\n",
      "Epoch 12, Loss: 0.9405\n",
      "Epoch 13, Loss: 0.8380\n",
      "Epoch 14, Loss: 0.7311\n",
      "Epoch 15, Loss: 0.6945\n",
      "Epoch 16, Loss: 0.6544\n",
      "Epoch 17, Loss: 0.6233\n",
      "Epoch 18, Loss: 0.6115\n",
      "Epoch 19, Loss: 1.0472\n",
      "Epoch 20, Loss: 1.1636\n",
      "Epoch 21, Loss: 0.7561\n",
      "Epoch 22, Loss: 0.5880\n",
      "Epoch 23, Loss: 0.5314\n",
      "Epoch 24, Loss: 0.5049\n",
      "Epoch 25, Loss: 0.5084\n",
      "Epoch 26, Loss: 0.4969\n",
      "Epoch 27, Loss: 0.4945\n",
      "Epoch 28, Loss: 0.4860\n",
      "Epoch 29, Loss: 0.4702\n",
      "Epoch 30, Loss: 0.4788\n"
     ]
    }
   ],
   "source": [
    "for epoch in range(30):\n",
    "    model.train()\n",
    "    total_loss = 0\n",
    "    for x,y in train_loader:\n",
    "        optimizer.zero_grad()\n",
    "        outputs = model(x)\n",
    "        outputs = outputs.view(-1,outputs.shape[-1]) # what does this do\n",
    "        y = y.view(-1)\n",
    "\n",
    "        loss = criterion(outputs,y)\n",
    "        loss.backward()\n",
    "\n",
    "        optimizer.step()\n",
    "        total_loss += loss.item()\n",
    "    losses.append(total_loss)\n",
    "    print(f\"Epoch {epoch + 1}, Loss: {total_loss:.4f}\")\n"
   ]
  },
  {
   "cell_type": "code",
   "execution_count": 101,
   "metadata": {},
   "outputs": [],
   "source": [
    "import matplotlib.pyplot as plt"
   ]
  },
  {
   "cell_type": "code",
   "execution_count": 102,
   "metadata": {},
   "outputs": [
    {
     "data": {
      "text/plain": [
       "[<matplotlib.lines.Line2D at 0x7b80af1feeb0>]"
      ]
     },
     "execution_count": 102,
     "metadata": {},
     "output_type": "execute_result"
    },
    {
     "data": {
      "image/png": "[encoded data removed]",
      "text/plain": [
       "<Figure size 640x480 with 1 Axes>"
      ]
     },
     "metadata": {},
     "output_type": "display_data"
    }
   ],
   "source": [
    "plt.plot(losses)"
   ]
  },
  {
   "cell_type": "code",
   "execution_count": 103,
   "metadata": {},
   "outputs": [],
   "source": [
    "from sklearn.metrics import classification_report"
   ]
  },
  {
   "cell_type": "code",
   "execution_count": 104,
   "metadata": {},
   "outputs": [
    {
     "data": {
      "text/plain": [
       "(140840, 140840)"
      ]
     },
     "execution_count": 104,
     "metadata": {},
     "output_type": "execute_result"
    }
   ],
   "source": [
    "model.eval()\n",
    "all_preds, all_labels = [],[]\n",
    "with torch.no_grad():\n",
    "    for x,y in test_loader:\n",
    "        outputs = model(x)\n",
    "        preds = torch.argmax(outputs,dim = -1)\n",
    "        # print(preds.shape,y.shape)\n",
    "        all_preds.extend(preds.view(-1).tolist())\n",
    "        all_labels.extend(y.view(-1).tolist())\n",
    "p = len(all_labels)\n",
    "q = len(all_preds)\n",
    "p,q"
   ]
  },
  {
   "cell_type": "code",
   "execution_count": 105,
   "metadata": {},
   "outputs": [
    {
     "name": "stdout",
     "output_type": "stream",
     "text": [
      "Filtered labels length: 47377\n",
      "Filtered preds length: 47377\n"
     ]
    }
   ],
   "source": [
    "valid_indices = [i for i, label in enumerate(all_labels) if label != -1]\n",
    "filtered_labels = [all_labels[i] for i in valid_indices]\n",
    "filtered_preds = [all_preds[i] for i in valid_indices]\n",
    "\n",
    "print(f\"Filtered labels length: {len(filtered_labels)}\")\n",
    "print(f\"Filtered preds length: {len(filtered_preds)}\")"
   ]
  },
  {
   "cell_type": "code",
   "execution_count": 106,
   "metadata": {},
   "outputs": [
    {
     "name": "stdout",
     "output_type": "stream",
     "text": [
      "              precision    recall  f1-score   support\n",
      "\n",
      "           0       0.95      0.89      0.92      1354\n",
      "           1       1.00      0.98      0.99        48\n",
      "           2       0.92      0.92      0.92      6642\n",
      "           3       0.57      0.91      0.70      1104\n",
      "           4       1.00      1.00      1.00       434\n",
      "           5       0.93      0.95      0.94      1269\n",
      "           6       1.00      0.84      0.91      1918\n",
      "           7       0.95      0.90      0.93       913\n",
      "           8       0.79      0.78      0.78       202\n",
      "           9       1.00      1.00      1.00       384\n",
      "          10       0.90      0.84      0.87       728\n",
      "          11       0.63      0.66      0.64        71\n",
      "          13       1.00      0.99      1.00       470\n",
      "          14       1.00      0.75      0.86         4\n",
      "          15       1.00      1.00      1.00      1975\n",
      "          16       1.00      1.00      1.00      1214\n",
      "          17       1.00      1.00      1.00        77\n",
      "          18       1.00      1.00      1.00       814\n",
      "          19       1.00      1.00      1.00       110\n",
      "          20       1.00      0.98      0.99        49\n",
      "          21       1.00      0.99      0.99        93\n",
      "          22       1.00      0.50      0.67         2\n",
      "          23       0.98      0.77      0.86      4806\n",
      "          24       1.00      1.00      1.00       238\n",
      "          25       0.88      0.84      0.86       202\n",
      "          26       1.00      1.00      1.00         4\n",
      "          27       1.00      1.00      1.00      2390\n",
      "          28       1.00      1.00      1.00       323\n",
      "          29       1.00      1.00      1.00        11\n",
      "          30       0.83      0.57      0.68       130\n",
      "          31       1.00      1.00      1.00      1178\n",
      "          32       0.12      0.08      0.10        12\n",
      "          33       0.84      0.91      0.87      3034\n",
      "          34       0.78      0.90      0.84      1679\n",
      "          35       0.93      0.92      0.93       539\n",
      "          36       1.00      0.94      0.97        77\n",
      "          37       0.50      0.30      0.38        10\n",
      "          38       1.00      1.00      1.00       421\n",
      "          39       0.89      0.83      0.86      2964\n",
      "          40       1.00      1.00      1.00        77\n",
      "          41       0.98      0.98      0.98      5071\n",
      "          42       0.87      0.99      0.93      4020\n",
      "          43       1.00      1.00      1.00       316\n",
      "\n",
      "    accuracy                           0.92     47377\n",
      "   macro avg       0.91      0.88      0.89     47377\n",
      "weighted avg       0.93      0.92      0.92     47377\n",
      "\n"
     ]
    }
   ],
   "source": [
    "print(classification_report(filtered_labels,filtered_preds))"
   ]
  },
  {
   "cell_type": "code",
   "execution_count": 107,
   "metadata": {},
   "outputs": [],
   "source": [
    "sent = \"The quick brown fox jumps over the lazy dog\"\n",
    "sent = sent.split()\n",
    "inp = torch.tensor([word_vocab.get(word,word_vocab[\"<UNK>\"]) for word in sent])\n",
    "outputs = model(inp)"
   ]
  },
  {
   "cell_type": "code",
   "execution_count": 108,
   "metadata": {},
   "outputs": [],
   "source": [
    "output = torch.argmax(outputs,dim=-1).view(-1)"
   ]
  },
  {
   "cell_type": "code",
   "execution_count": 109,
   "metadata": {},
   "outputs": [],
   "source": [
    "output = output.tolist()\n",
    "tags = [idx2tag[idx] for idx in output]"
   ]
  },
  {
   "cell_type": "code",
   "execution_count": 110,
   "metadata": {},
   "outputs": [
    {
     "data": {
      "text/plain": [
       "['DT', 'JJ', 'NNS', 'NN', 'VBN', 'IN', 'DT', 'JJ', 'NN']"
      ]
     },
     "execution_count": 110,
     "metadata": {},
     "output_type": "execute_result"
    }
   ],
   "source": [
    "tags"
   ]
  },
  {
   "cell_type": "code",
   "execution_count": null,
   "metadata": {},
   "outputs": [],
   "source": []
  }
 ],
 "metadata": {
  "kernelspec": {
   "display_name": "ex5",
   "language": "python",
   "name": "python3"
  },
  "language_info": {
   "codemirror_mode": {
    "name": "ipython",
    "version": 3
   },
   "file_extension": ".py",
   "mimetype": "text/x-python",
   "name": "python",
   "nbconvert_exporter": "python",
   "pygments_lexer": "ipython3",
   "version": "3.9.19"
  }
 },
 "nbformat": 4,
 "nbformat_minor": 2
}
