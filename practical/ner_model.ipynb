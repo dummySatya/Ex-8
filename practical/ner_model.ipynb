{
 "cells": [
  {
   "cell_type": "code",
   "execution_count": 7,
   "metadata": {},
   "outputs": [],
   "source": [
    "# Data from - https://www.clips.uantwerpen.be/conll2000/chunking/"
   ]
  },
  {
   "cell_type": "code",
   "execution_count": 38,
   "metadata": {},
   "outputs": [],
   "source": [
    "import torch\n",
    "import torch.nn as nn\n",
    "import matplotlib.pyplot as plt\n",
    "from torch.nn.utils.rnn import pad_sequence\n",
    "from torch.utils.data import DataLoader, Dataset\n",
    "from sklearn.metrics import classification_report"
   ]
  },
  {
   "cell_type": "code",
   "execution_count": 12,
   "metadata": {},
   "outputs": [],
   "source": [
    "def prepare_data(file_path):\n",
    "    sentences = []\n",
    "    tags = []\n",
    "    with open(file_path, \"r\", encoding=\"utf-8\") as f:\n",
    "        sentence = []\n",
    "        pos_tags = []\n",
    "        for line in f:\n",
    "            line = line.strip()\n",
    "            if line == \"\":  # Sentence boundary\n",
    "                if sentence:\n",
    "                    sentences.append(sentence)\n",
    "                    tags.append(pos_tags)\n",
    "                    sentence = []\n",
    "                    pos_tags = []\n",
    "            else:\n",
    "                parts = line.split()\n",
    "                if len(parts) >= 2:  # Ensure the line has at least word and POS tag\n",
    "                    word, pos_tag = parts[0], parts[1]\n",
    "                    sentence.append(word)\n",
    "                    pos_tags.append(pos_tag)\n",
    "        if sentence:\n",
    "            sentences.append(sentence)\n",
    "            tags.append(pos_tags)\n",
    "    return sentences, tags"
   ]
  },
  {
   "cell_type": "code",
   "execution_count": 13,
   "metadata": {},
   "outputs": [],
   "source": [
    "file_path = \"./data/train.txt\"\n",
    "sentences, pos_tags = prepare_data(file_path)"
   ]
  },
  {
   "cell_type": "code",
   "execution_count": 14,
   "metadata": {},
   "outputs": [],
   "source": [
    "word_vocab = {word: idx for idx, word in enumerate(set(w for s in sentences for w in s), start=1)}\n",
    "word_vocab[\"<PAD>\"] = 0  # For padding\n",
    "word_vocab[\"<UNK>\"] = len(word_vocab)  # For unknown words\n",
    "\n",
    "tag_vocab = {tag: idx for idx, tag in enumerate(set(t for ts in pos_tags for t in ts))}\n",
    "idx2tag = {tag_vocab[tag] : tag for tag in tag_vocab.keys()}"
   ]
  },
  {
   "cell_type": "code",
   "execution_count": 15,
   "metadata": {},
   "outputs": [
    {
     "data": {
      "text/plain": [
       "(19124, 44)"
      ]
     },
     "execution_count": 15,
     "metadata": {},
     "output_type": "execute_result"
    }
   ],
   "source": [
    "len(word_vocab),len(tag_vocab)"
   ]
  },
  {
   "cell_type": "code",
   "execution_count": 16,
   "metadata": {},
   "outputs": [],
   "source": [
    "def encode_data(sentences, tags, word_vocab, tag_vocab):\n",
    "    encoded_sentences = [[word_vocab.get(w, word_vocab[\"<UNK>\"]) for w in s] for s in sentences]\n",
    "    encoded_tags = [[tag_vocab[t] for t in ts] for ts in tags]\n",
    "    return encoded_sentences, encoded_tags"
   ]
  },
  {
   "cell_type": "code",
   "execution_count": 18,
   "metadata": {},
   "outputs": [],
   "source": [
    "test_file_path = \"./data/test.txt\"\n",
    "t_sentences, t_pos_tags = prepare_data(test_file_path)"
   ]
  },
  {
   "cell_type": "code",
   "execution_count": 19,
   "metadata": {},
   "outputs": [],
   "source": [
    "X_train, y_train = encode_data(sentences, pos_tags, word_vocab, tag_vocab)\n",
    "X_test, y_test = encode_data(t_sentences,t_pos_tags,word_vocab,tag_vocab)"
   ]
  },
  {
   "cell_type": "code",
   "execution_count": 21,
   "metadata": {},
   "outputs": [
    {
     "data": {
      "text/plain": [
       "(8936, 2012)"
      ]
     },
     "execution_count": 21,
     "metadata": {},
     "output_type": "execute_result"
    }
   ],
   "source": [
    "len(X_train),len(X_test)"
   ]
  },
  {
   "cell_type": "code",
   "execution_count": 23,
   "metadata": {},
   "outputs": [],
   "source": [
    "def pad_sequences(data, pad_value):\n",
    "    return pad_sequence([torch.tensor(seq) for seq in data], batch_first=True, padding_value=pad_value)"
   ]
  },
  {
   "cell_type": "code",
   "execution_count": 24,
   "metadata": {},
   "outputs": [],
   "source": [
    "X_train = pad_sequences(X_train, word_vocab[\"<PAD>\"])\n",
    "y_train = pad_sequences(y_train, -1)  # Use -1 as the padding value for loss functions"
   ]
  },
  {
   "cell_type": "code",
   "execution_count": 25,
   "metadata": {},
   "outputs": [],
   "source": [
    "X_test = pad_sequences(X_test,word_vocab[\"<PAD>\"])\n",
    "y_test = pad_sequences(y_test,-1)"
   ]
  },
  {
   "cell_type": "code",
   "execution_count": 27,
   "metadata": {},
   "outputs": [
    {
     "data": {
      "text/plain": [
       "(torch.Size([8936, 78]), torch.Size([2012, 70]))"
      ]
     },
     "execution_count": 27,
     "metadata": {},
     "output_type": "execute_result"
    }
   ],
   "source": [
    "X_train.shape,X_test.shape"
   ]
  },
  {
   "cell_type": "code",
   "execution_count": 28,
   "metadata": {},
   "outputs": [
    {
     "data": {
      "text/plain": [
       "(torch.Size([8936, 78]), torch.Size([2012, 70]))"
      ]
     },
     "execution_count": 28,
     "metadata": {},
     "output_type": "execute_result"
    }
   ],
   "source": [
    "y_train.shape,y_test.shape"
   ]
  },
  {
   "cell_type": "code",
   "execution_count": 30,
   "metadata": {},
   "outputs": [],
   "source": [
    "class NERData(Dataset):\n",
    "    def __init__(self,X,y):\n",
    "        self.X = X\n",
    "        self.y = y\n",
    "    \n",
    "    def __len__(self):\n",
    "        return self.X.shape[0]\n",
    "    \n",
    "    def __getitem__(self, index):\n",
    "        return self.X[index],self.y[index]\n",
    "        "
   ]
  },
  {
   "cell_type": "code",
   "execution_count": 31,
   "metadata": {},
   "outputs": [],
   "source": [
    "traindata = NERData(X_train,y_train)\n",
    "testdata = NERData(X_test,y_test)"
   ]
  },
  {
   "cell_type": "code",
   "execution_count": 32,
   "metadata": {},
   "outputs": [],
   "source": [
    "train_loader = DataLoader(traindata,batch_size = 32, shuffle= True)\n",
    "test_loader = DataLoader(testdata,batch_size=32)"
   ]
  },
  {
   "cell_type": "code",
   "execution_count": 34,
   "metadata": {},
   "outputs": [],
   "source": [
    "class NERModel(nn.Module):\n",
    "    def __init__(self, vocab_size, tagset_size, embedding_dim=100, hidden_dim=128):\n",
    "        super(NERModel, self).__init__()\n",
    "        self.embedding = nn.Embedding(vocab_size, embedding_dim)\n",
    "        self.lstm = nn.LSTM(embedding_dim, hidden_dim, batch_first=True)\n",
    "        self.fc = nn.Linear(hidden_dim, tagset_size)\n",
    "\n",
    "    def forward(self, x):\n",
    "        x = self.embedding(x) \n",
    "        lstm_out, _ = self.lstm(x)\n",
    "        logits = self.fc(lstm_out)\n",
    "        return logits"
   ]
  },
  {
   "cell_type": "code",
   "execution_count": 35,
   "metadata": {},
   "outputs": [
    {
     "name": "stderr",
     "output_type": "stream",
     "text": [
      "/home/satya-tt0492/anaconda3/envs/ex5/lib/python3.9/site-packages/onnxscript/converter.py:820: FutureWarning: 'onnxscript.values.Op.param_schemas' is deprecated in version 0.1 and will be removed in the future. Please use '.op_signature' instead.\n",
      "  param_schemas = callee.param_schemas()\n",
      "/home/satya-tt0492/anaconda3/envs/ex5/lib/python3.9/site-packages/onnxscript/converter.py:820: FutureWarning: 'onnxscript.values.OnnxFunction.param_schemas' is deprecated in version 0.1 and will be removed in the future. Please use '.op_signature' instead.\n",
      "  param_schemas = callee.param_schemas()\n"
     ]
    }
   ],
   "source": [
    "model = NERModel(vocab_size=len(word_vocab),tagset_size=len(tag_vocab))\n",
    "optimizer = torch.optim.Adam(model.parameters(),lr = 0.001)\n",
    "criterion = nn.CrossEntropyLoss(ignore_index=-1) # -1 to ignore the padded vals\n",
    "losses = []"
   ]
  },
  {
   "cell_type": "code",
   "execution_count": 37,
   "metadata": {},
   "outputs": [
    {
     "name": "stdout",
     "output_type": "stream",
     "text": [
      "Epoch 1, Loss: 445.9265\n",
      "Epoch 2, Loss: 192.0531\n",
      "Epoch 3, Loss: 127.3796\n",
      "Epoch 4, Loss: 92.3088\n",
      "Epoch 5, Loss: 69.6354\n",
      "Epoch 6, Loss: 53.5135\n",
      "Epoch 7, Loss: 41.5536\n",
      "Epoch 8, Loss: 32.3723\n",
      "Epoch 9, Loss: 25.1366\n",
      "Epoch 10, Loss: 19.5172\n",
      "Epoch 11, Loss: 15.1867\n",
      "Epoch 12, Loss: 11.7466\n",
      "Epoch 13, Loss: 9.1603\n",
      "Epoch 14, Loss: 7.1363\n",
      "Epoch 15, Loss: 5.5492\n",
      "Epoch 16, Loss: 4.3617\n",
      "Epoch 17, Loss: 3.4498\n",
      "Epoch 18, Loss: 2.7384\n",
      "Epoch 19, Loss: 2.2099\n",
      "Epoch 20, Loss: 1.8077\n",
      "Epoch 21, Loss: 1.5518\n",
      "Epoch 22, Loss: 1.2983\n",
      "Epoch 23, Loss: 1.1570\n",
      "Epoch 24, Loss: 1.0766\n",
      "Epoch 25, Loss: 0.9881\n",
      "Epoch 26, Loss: 0.8778\n",
      "Epoch 27, Loss: 0.8449\n",
      "Epoch 28, Loss: 0.7943\n",
      "Epoch 29, Loss: 0.7641\n",
      "Epoch 30, Loss: 0.9076\n",
      "Epoch 31, Loss: 1.2810\n",
      "Epoch 32, Loss: 0.9126\n",
      "Epoch 33, Loss: 0.7210\n",
      "Epoch 34, Loss: 0.6331\n",
      "Epoch 35, Loss: 0.6078\n",
      "Epoch 36, Loss: 0.5897\n",
      "Epoch 37, Loss: 0.5934\n",
      "Epoch 38, Loss: 0.5787\n",
      "Epoch 39, Loss: 0.5818\n",
      "Epoch 40, Loss: 0.5504\n",
      "Epoch 41, Loss: 0.5498\n",
      "Epoch 42, Loss: 0.5424\n",
      "Epoch 43, Loss: 0.5543\n",
      "Epoch 44, Loss: 0.5403\n",
      "Epoch 45, Loss: 1.9924\n",
      "Epoch 46, Loss: 0.9949\n",
      "Epoch 47, Loss: 0.5985\n",
      "Epoch 48, Loss: 0.5154\n",
      "Epoch 49, Loss: 0.4990\n",
      "Epoch 50, Loss: 0.5009\n"
     ]
    }
   ],
   "source": [
    "for epoch in range(50):\n",
    "    model.train()\n",
    "    total_loss = 0\n",
    "    for x,y in train_loader:\n",
    "        optimizer.zero_grad()\n",
    "        outputs = model(x)\n",
    "        outputs = outputs.view(-1,outputs.shape[-1])\n",
    "        y = y.view(-1)\n",
    "\n",
    "        loss = criterion(outputs,y)\n",
    "        loss.backward()\n",
    "\n",
    "        optimizer.step()\n",
    "        total_loss += loss.item()\n",
    "    losses.append(total_loss)\n",
    "    print(f\"Epoch {epoch + 1}, Loss: {total_loss:.4f}\")"
   ]
  },
  {
   "cell_type": "code",
   "execution_count": 39,
   "metadata": {},
   "outputs": [
    {
     "data": {
      "text/plain": [
       "[<matplotlib.lines.Line2D at 0x743473adc430>]"
      ]
     },
     "execution_count": 39,
     "metadata": {},
     "output_type": "execute_result"
    },
    {
     "data": {
      "image/png": "[encoded data removed]",
      "text/plain": [
       "<Figure size 640x480 with 1 Axes>"
      ]
     },
     "metadata": {},
     "output_type": "display_data"
    }
   ],
   "source": [
    "plt.plot(losses)"
   ]
  },
  {
   "cell_type": "code",
   "execution_count": 40,
   "metadata": {},
   "outputs": [],
   "source": [
    "model.eval()\n",
    "all_preds, all_labels = [],[]\n",
    "with torch.no_grad():\n",
    "    for x,y in test_loader:\n",
    "        outputs = model(x)\n",
    "        preds = torch.argmax(outputs,dim = -1)\n",
    "\n",
    "        all_preds.extend(preds.view(-1).tolist())\n",
    "        all_labels.extend(y.view(-1).tolist())"
   ]
  },
  {
   "cell_type": "code",
   "execution_count": 41,
   "metadata": {},
   "outputs": [
    {
     "name": "stdout",
     "output_type": "stream",
     "text": [
      "Filtered labels length: 47377\n",
      "Filtered preds length: 47377\n"
     ]
    }
   ],
   "source": [
    "valid_indices = [i for i, label in enumerate(all_labels) if label != -1]\n",
    "filtered_labels = [all_labels[i] for i in valid_indices]\n",
    "filtered_preds = [all_preds[i] for i in valid_indices]\n",
    "\n",
    "print(f\"Filtered labels length: {len(filtered_labels)}\")\n",
    "print(f\"Filtered preds length: {len(filtered_preds)}\")"
   ]
  },
  {
   "cell_type": "code",
   "execution_count": 42,
   "metadata": {},
   "outputs": [
    {
     "name": "stdout",
     "output_type": "stream",
     "text": [
      "              precision    recall  f1-score   support\n",
      "\n",
      "           0       1.00      1.00      1.00       814\n",
      "           1       0.92      0.90      0.91       913\n",
      "           2       0.87      0.94      0.90      1269\n",
      "           3       1.00      1.00      1.00      1178\n",
      "           4       0.85      0.86      0.86       202\n",
      "           5       0.79      0.91      0.85      3034\n",
      "           6       1.00      0.99      1.00       110\n",
      "           7       0.93      0.90      0.92      6642\n",
      "           8       1.00      1.00      1.00        77\n",
      "           9       0.92      0.85      0.88      4806\n",
      "          10       0.82      0.55      0.65       130\n",
      "          11       1.00      0.99      0.99       470\n",
      "          12       1.00      0.99      0.99        93\n",
      "          13       1.00      1.00      1.00       238\n",
      "          14       0.77      0.76      0.76       202\n",
      "          15       1.00      1.00      1.00         4\n",
      "          16       1.00      1.00      1.00        11\n",
      "          17       0.80      0.95      0.87      1918\n",
      "          18       1.00      0.98      0.99        49\n",
      "          19       0.33      0.20      0.25        10\n",
      "          20       1.00      0.75      0.86         4\n",
      "          21       1.00      1.00      1.00      2390\n",
      "          22       1.00      1.00      1.00       421\n",
      "          23       1.00      1.00      1.00       323\n",
      "          24       1.00      1.00      1.00      1975\n",
      "          25       0.93      0.87      0.90      1354\n",
      "          26       0.66      0.58      0.62        71\n",
      "          27       0.96      1.00      0.98       434\n",
      "          28       1.00      1.00      1.00      1214\n",
      "          29       1.00      1.00      1.00        77\n",
      "          30       0.90      0.83      0.86      2964\n",
      "          31       1.00      1.00      1.00       384\n",
      "          32       0.91      0.80      0.85       728\n",
      "          33       1.00      0.99      1.00       316\n",
      "          34       0.88      0.93      0.90      1679\n",
      "          35       0.14      0.08      0.11        12\n",
      "          36       0.97      0.92      0.95        77\n",
      "          37       0.96      0.98      0.97      5071\n",
      "          38       0.98      1.00      0.99        48\n",
      "          40       1.00      0.50      0.67         2\n",
      "          41       0.90      0.83      0.86      1104\n",
      "          42       0.99      0.99      0.99      4020\n",
      "          43       0.92      0.90      0.91       539\n",
      "\n",
      "    accuracy                           0.93     47377\n",
      "   macro avg       0.91      0.88      0.89     47377\n",
      "weighted avg       0.93      0.93      0.93     47377\n",
      "\n"
     ]
    }
   ],
   "source": [
    "print(classification_report(filtered_labels,filtered_preds))"
   ]
  },
  {
   "cell_type": "markdown",
   "metadata": {},
   "source": [
    "Accuracy - 93%"
   ]
  },
  {
   "cell_type": "code",
   "execution_count": 43,
   "metadata": {},
   "outputs": [],
   "source": [
    "sent = \"The quick fox jump over the dog\"\n",
    "sent = sent.split()\n",
    "inp = torch.tensor([word_vocab[word] for word in sent])\n",
    "outputs = model(inp)"
   ]
  },
  {
   "cell_type": "code",
   "execution_count": 44,
   "metadata": {},
   "outputs": [],
   "source": [
    "output = torch.argmax(outputs,dim=-1).view(-1)"
   ]
  },
  {
   "cell_type": "code",
   "execution_count": 45,
   "metadata": {},
   "outputs": [],
   "source": [
    "output = output.tolist()\n",
    "tags = [idx2tag[idx] for idx in output]"
   ]
  },
  {
   "cell_type": "code",
   "execution_count": 46,
   "metadata": {},
   "outputs": [
    {
     "data": {
      "text/plain": [
       "['DT', 'JJ', 'NN', 'NN', 'IN', 'DT', 'NN']"
      ]
     },
     "execution_count": 46,
     "metadata": {},
     "output_type": "execute_result"
    }
   ],
   "source": [
    "tags"
   ]
  },
  {
   "cell_type": "code",
   "execution_count": null,
   "metadata": {},
   "outputs": [],
   "source": []
  }
 ],
 "metadata": {
  "kernelspec": {
   "display_name": "ex5",
   "language": "python",
   "name": "python3"
  },
  "language_info": {
   "codemirror_mode": {
    "name": "ipython",
    "version": 3
   },
   "file_extension": ".py",
   "mimetype": "text/x-python",
   "name": "python",
   "nbconvert_exporter": "python",
   "pygments_lexer": "ipython3",
   "version": "3.9.19"
  }
 },
 "nbformat": 4,
 "nbformat_minor": 2
}
